{
  "nbformat": 4,
  "nbformat_minor": 0,
  "metadata": {
    "colab": {
      "provenance": []
    },
    "kernelspec": {
      "name": "python3",
      "display_name": "Python 3"
    },
    "language_info": {
      "name": "python"
    }
  },
  "cells": [
    {
      "cell_type": "code",
      "execution_count": null,
      "metadata": {
        "id": "Gn0IB5VPzX2I"
      },
      "outputs": [],
      "source": [
        "!mkdir -p ~/.kaggle\n",
        "!cp /content/kaggle.json ~/.kaggle/\n",
        "!chmod 600 ~/.kaggle/kaggle.json"
      ]
    },
    {
      "cell_type": "code",
      "source": [
        "!pip install -q kaggle\n"
      ],
      "metadata": {
        "id": "fffTZV44zio0"
      },
      "execution_count": null,
      "outputs": []
    },
    {
      "cell_type": "code",
      "source": [
        "!kaggle datasets download -d stoney71/new-york-city-transport-statistics"
      ],
      "metadata": {
        "colab": {
          "base_uri": "https://localhost:8080/"
        },
        "id": "eaQdObITzrB7",
        "outputId": "c629dbaf-2027-4757-c8a5-fa58a337081f"
      },
      "execution_count": null,
      "outputs": [
        {
          "output_type": "stream",
          "name": "stdout",
          "text": [
            "Dataset URL: https://www.kaggle.com/datasets/stoney71/new-york-city-transport-statistics\n",
            "License(s): unknown\n",
            "Downloading new-york-city-transport-statistics.zip to /content\n",
            " 98% 1.28G/1.30G [00:06<00:00, 234MB/s]\n",
            "100% 1.30G/1.30G [00:08<00:00, 167MB/s]\n"
          ]
        }
      ]
    },
    {
      "cell_type": "code",
      "source": [
        "!unzip -o new-york-city-transport-statistics.zip -d ./nyc_transport_data"
      ],
      "metadata": {
        "colab": {
          "base_uri": "https://localhost:8080/"
        },
        "id": "Ac0XfP3ezvfy",
        "outputId": "37528473-d11e-4a5c-b759-271be808a6f5"
      },
      "execution_count": null,
      "outputs": [
        {
          "output_type": "stream",
          "name": "stdout",
          "text": [
            "Archive:  new-york-city-transport-statistics.zip\n",
            "  inflating: ./nyc_transport_data/mta_1706.csv  \n",
            "  inflating: ./nyc_transport_data/mta_1708.csv  \n",
            "  inflating: ./nyc_transport_data/mta_1710.csv  \n",
            "  inflating: ./nyc_transport_data/mta_1712.csv  \n"
          ]
        }
      ]
    },
    {
      "cell_type": "markdown",
      "source": [
        "##1. Data Ingestion & Storage"
      ],
      "metadata": {
        "id": "VT5fgiab0iI5"
      }
    },
    {
      "cell_type": "code",
      "source": [
        "#1. Load Large Data File into Spark\n",
        "from pyspark.sql import SparkSession\n",
        "\n",
        "# Initialize Spark session\n",
        "spark = SparkSession.builder.appName(\"NYC_Transport_Analysis\").getOrCreate()\n",
        "\n",
        "# Load CSV into DataFrame\n",
        "df = spark.read.option(\"header\", True).option(\"inferSchema\", True).csv(\"/content/nyc_transport_data/mta_1712.csv\")\n",
        "\n",
        "# Preview data\n",
        "df.show(5)\n",
        "df.printSchema()\n"
      ],
      "metadata": {
        "colab": {
          "base_uri": "https://localhost:8080/"
        },
        "id": "AZqWHGpQ0Ddq",
        "outputId": "4758c901-3e6a-4239-db57-a297b1ea85ca"
      },
      "execution_count": null,
      "outputs": [
        {
          "output_type": "stream",
          "name": "stdout",
          "text": [
            "+-------------------+------------+-----------------+--------------------+---------+----------+--------------------+--------------+---------------+----------+------------------------+-------------------------+--------------------+--------------------+----------------+-------------------+--------------------+\n",
            "|     RecordedAtTime|DirectionRef|PublishedLineName|          OriginName|OriginLat|OriginLong|     DestinationName|DestinationLat|DestinationLong|VehicleRef|VehicleLocation.Latitude|VehicleLocation.Longitude|   NextStopPointName|ArrivalProximityText|DistanceFromStop|ExpectedArrivalTime|ScheduledArrivalTime|\n",
            "+-------------------+------------+-----------------+--------------------+---------+----------+--------------------+--------------+---------------+----------+------------------------+-------------------------+--------------------+--------------------+----------------+-------------------+--------------------+\n",
            "|2017-12-01 00:05:49|           0|              B67|MC DONALD AV/CORT...| 40.63816|-73.978939|DNTWN BKLYN SANDS...|     40.700253|      -73.98703|  NYCT_406|               40.671578|               -73.977672|    7 AV/GARFIELD PL|         approaching|             130|2017-12-01 00:06:21|            24:01:30|\n",
            "|2017-12-01 00:06:19|           1|              Bx7|RIVERDALE AV/W 26...|40.912363|-73.902699|WASHINGTON HEIGHT...|     40.839813|     -73.939745| NYCT_4223|               40.866243|               -73.925258| BROADWAY/ACADEMY ST|             at stop|              14|2017-12-01 00:06:21|            23:34:35|\n",
            "|2017-12-01 00:05:25|           0|              S51|LINCOLN AV/RICHMO...|40.581245| -74.11199|ST GEORGE FERRY v...|     40.643585|      -74.07261| NYCT_7080|               40.581364|               -74.112033|MIDLAND AV/RICHMO...|       < 1 stop away|             209|2017-12-01 00:06:22|            24:15:35|\n",
            "|2017-12-01 00:05:56|           0|               M8|WEST ST/CHRISTOPH...|40.732847|-74.010081|AVENUE \"D\" CROSSTOWN|     40.724689|     -73.974548| NYCT_3809|               40.734194|               -73.999677|GREENWICH AV/CHRI...|             at stop|               5|2017-12-01 00:06:22|            24:05:24|\n",
            "|2017-12-01 00:06:02|           0|             M101|       ASTOR PL/3 AV|40.729567|-73.990052|FT GEORGE 193 ST ...|     40.855666|     -73.925259| NYCT_5902|               40.773784|               -73.957659|        3 AV/E 79 ST|         approaching|             108|2017-12-01 00:06:24|            24:03:01|\n",
            "+-------------------+------------+-----------------+--------------------+---------+----------+--------------------+--------------+---------------+----------+------------------------+-------------------------+--------------------+--------------------+----------------+-------------------+--------------------+\n",
            "only showing top 5 rows\n",
            "\n",
            "root\n",
            " |-- RecordedAtTime: timestamp (nullable = true)\n",
            " |-- DirectionRef: string (nullable = true)\n",
            " |-- PublishedLineName: string (nullable = true)\n",
            " |-- OriginName: string (nullable = true)\n",
            " |-- OriginLat: string (nullable = true)\n",
            " |-- OriginLong: string (nullable = true)\n",
            " |-- DestinationName: string (nullable = true)\n",
            " |-- DestinationLat: string (nullable = true)\n",
            " |-- DestinationLong: string (nullable = true)\n",
            " |-- VehicleRef: string (nullable = true)\n",
            " |-- VehicleLocation.Latitude: double (nullable = true)\n",
            " |-- VehicleLocation.Longitude: double (nullable = true)\n",
            " |-- NextStopPointName: string (nullable = true)\n",
            " |-- ArrivalProximityText: string (nullable = true)\n",
            " |-- DistanceFromStop: string (nullable = true)\n",
            " |-- ExpectedArrivalTime: string (nullable = true)\n",
            " |-- ScheduledArrivalTime: string (nullable = true)\n",
            "\n"
          ]
        }
      ]
    },
    {
      "cell_type": "code",
      "source": [
        "#2. Convert DataFrame to RDD\n",
        "# Convert to RDD\n",
        "rdd = df.rdd\n",
        "\n",
        "# Show first 5 rows as RDD\n",
        "rdd.take(5)\n"
      ],
      "metadata": {
        "colab": {
          "base_uri": "https://localhost:8080/"
        },
        "id": "N__E_SNx0zwW",
        "outputId": "5bbe807d-962d-4d7f-d14a-c6f3a900b142"
      },
      "execution_count": null,
      "outputs": [
        {
          "output_type": "execute_result",
          "data": {
            "text/plain": [
              "[Row(RecordedAtTime=datetime.datetime(2017, 12, 1, 0, 5, 49), DirectionRef='0', PublishedLineName='B67', OriginName='MC DONALD AV/CORTELYOU RD', OriginLat='40.63816', OriginLong='-73.978939', DestinationName='DNTWN BKLYN SANDS ST via FLATBUSH AV', DestinationLat='40.700253', DestinationLong='-73.98703', VehicleRef='NYCT_406', VehicleLocation.Latitude=40.671578, VehicleLocation.Longitude=-73.977672, NextStopPointName='7 AV/GARFIELD PL', ArrivalProximityText='approaching', DistanceFromStop='130', ExpectedArrivalTime='2017-12-01 00:06:21', ScheduledArrivalTime='24:01:30'),\n",
              " Row(RecordedAtTime=datetime.datetime(2017, 12, 1, 0, 6, 19), DirectionRef='1', PublishedLineName='Bx7', OriginName='RIVERDALE AV/W 263 ST', OriginLat='40.912363', OriginLong='-73.902699', DestinationName='WASHINGTON HEIGHTS 166 ST via BROADWAY', DestinationLat='40.839813', DestinationLong='-73.939745', VehicleRef='NYCT_4223', VehicleLocation.Latitude=40.866243, VehicleLocation.Longitude=-73.925258, NextStopPointName='BROADWAY/ACADEMY ST', ArrivalProximityText='at stop', DistanceFromStop='14', ExpectedArrivalTime='2017-12-01 00:06:21', ScheduledArrivalTime='23:34:35'),\n",
              " Row(RecordedAtTime=datetime.datetime(2017, 12, 1, 0, 5, 25), DirectionRef='0', PublishedLineName='S51', OriginName='LINCOLN AV/RICHMOND RD', OriginLat='40.581245', OriginLong='-74.11199', DestinationName='ST GEORGE FERRY via BAY ST', DestinationLat='40.643585', DestinationLong='-74.07261', VehicleRef='NYCT_7080', VehicleLocation.Latitude=40.581364, VehicleLocation.Longitude=-74.112033, NextStopPointName='MIDLAND AV/RICHMOND RD', ArrivalProximityText='< 1 stop away', DistanceFromStop='209', ExpectedArrivalTime='2017-12-01 00:06:22', ScheduledArrivalTime='24:15:35'),\n",
              " Row(RecordedAtTime=datetime.datetime(2017, 12, 1, 0, 5, 56), DirectionRef='0', PublishedLineName='M8', OriginName='WEST ST/CHRISTOPHER ST', OriginLat='40.732847', OriginLong='-74.010081', DestinationName='AVENUE \"D\" CROSSTOWN', DestinationLat='40.724689', DestinationLong='-73.974548', VehicleRef='NYCT_3809', VehicleLocation.Latitude=40.734194, VehicleLocation.Longitude=-73.999677, NextStopPointName='GREENWICH AV/CHRISTOPHER ST', ArrivalProximityText='at stop', DistanceFromStop='5', ExpectedArrivalTime='2017-12-01 00:06:22', ScheduledArrivalTime='24:05:24'),\n",
              " Row(RecordedAtTime=datetime.datetime(2017, 12, 1, 0, 6, 2), DirectionRef='0', PublishedLineName='M101', OriginName='ASTOR PL/3 AV', OriginLat='40.729567', OriginLong='-73.990052', DestinationName='FT GEORGE 193 ST via 3 AV', DestinationLat='40.855666', DestinationLong='-73.925259', VehicleRef='NYCT_5902', VehicleLocation.Latitude=40.773784, VehicleLocation.Longitude=-73.957659, NextStopPointName='3 AV/E 79 ST', ArrivalProximityText='approaching', DistanceFromStop='108', ExpectedArrivalTime='2017-12-01 00:06:24', ScheduledArrivalTime='24:03:01')]"
            ]
          },
          "metadata": {},
          "execution_count": 8
        }
      ]
    },
    {
      "cell_type": "code",
      "source": [
        "df.printSchema()\n",
        "df.columns\n",
        "df.show(5)\n"
      ],
      "metadata": {
        "colab": {
          "base_uri": "https://localhost:8080/"
        },
        "id": "Iw-O3gl_1i5I",
        "outputId": "7dd4f9b8-3fe7-4ba3-95f1-170953aa6844"
      },
      "execution_count": null,
      "outputs": [
        {
          "output_type": "stream",
          "name": "stdout",
          "text": [
            "root\n",
            " |-- RecordedAtTime: timestamp (nullable = true)\n",
            " |-- DirectionRef: string (nullable = true)\n",
            " |-- PublishedLineName: string (nullable = true)\n",
            " |-- OriginName: string (nullable = true)\n",
            " |-- OriginLat: string (nullable = true)\n",
            " |-- OriginLong: string (nullable = true)\n",
            " |-- DestinationName: string (nullable = true)\n",
            " |-- DestinationLat: string (nullable = true)\n",
            " |-- DestinationLong: string (nullable = true)\n",
            " |-- VehicleRef: string (nullable = true)\n",
            " |-- VehicleLocation.Latitude: double (nullable = true)\n",
            " |-- VehicleLocation.Longitude: double (nullable = true)\n",
            " |-- NextStopPointName: string (nullable = true)\n",
            " |-- ArrivalProximityText: string (nullable = true)\n",
            " |-- DistanceFromStop: string (nullable = true)\n",
            " |-- ExpectedArrivalTime: string (nullable = true)\n",
            " |-- ScheduledArrivalTime: string (nullable = true)\n",
            "\n",
            "+-------------------+------------+-----------------+--------------------+---------+----------+--------------------+--------------+---------------+----------+------------------------+-------------------------+--------------------+--------------------+----------------+-------------------+--------------------+\n",
            "|     RecordedAtTime|DirectionRef|PublishedLineName|          OriginName|OriginLat|OriginLong|     DestinationName|DestinationLat|DestinationLong|VehicleRef|VehicleLocation.Latitude|VehicleLocation.Longitude|   NextStopPointName|ArrivalProximityText|DistanceFromStop|ExpectedArrivalTime|ScheduledArrivalTime|\n",
            "+-------------------+------------+-----------------+--------------------+---------+----------+--------------------+--------------+---------------+----------+------------------------+-------------------------+--------------------+--------------------+----------------+-------------------+--------------------+\n",
            "|2017-12-01 00:05:49|           0|              B67|MC DONALD AV/CORT...| 40.63816|-73.978939|DNTWN BKLYN SANDS...|     40.700253|      -73.98703|  NYCT_406|               40.671578|               -73.977672|    7 AV/GARFIELD PL|         approaching|             130|2017-12-01 00:06:21|            24:01:30|\n",
            "|2017-12-01 00:06:19|           1|              Bx7|RIVERDALE AV/W 26...|40.912363|-73.902699|WASHINGTON HEIGHT...|     40.839813|     -73.939745| NYCT_4223|               40.866243|               -73.925258| BROADWAY/ACADEMY ST|             at stop|              14|2017-12-01 00:06:21|            23:34:35|\n",
            "|2017-12-01 00:05:25|           0|              S51|LINCOLN AV/RICHMO...|40.581245| -74.11199|ST GEORGE FERRY v...|     40.643585|      -74.07261| NYCT_7080|               40.581364|               -74.112033|MIDLAND AV/RICHMO...|       < 1 stop away|             209|2017-12-01 00:06:22|            24:15:35|\n",
            "|2017-12-01 00:05:56|           0|               M8|WEST ST/CHRISTOPH...|40.732847|-74.010081|AVENUE \"D\" CROSSTOWN|     40.724689|     -73.974548| NYCT_3809|               40.734194|               -73.999677|GREENWICH AV/CHRI...|             at stop|               5|2017-12-01 00:06:22|            24:05:24|\n",
            "|2017-12-01 00:06:02|           0|             M101|       ASTOR PL/3 AV|40.729567|-73.990052|FT GEORGE 193 ST ...|     40.855666|     -73.925259| NYCT_5902|               40.773784|               -73.957659|        3 AV/E 79 ST|         approaching|             108|2017-12-01 00:06:24|            24:03:01|\n",
            "+-------------------+------------+-----------------+--------------------+---------+----------+--------------------+--------------+---------------+----------+------------------------+-------------------------+--------------------+--------------------+----------------+-------------------+--------------------+\n",
            "only showing top 5 rows\n",
            "\n"
          ]
        }
      ]
    },
    {
      "cell_type": "code",
      "source": [
        " #2. Use RDDs for Basic Transformations\n",
        " #Example Task: Count how many times each destination appears\n",
        " # Convert to RDD\n",
        "rdd = df.rdd\n",
        "\n",
        "# Filter rows with non-null DestinationName\n",
        "filtered_rdd = rdd.filter(lambda row: row.DestinationName is not None)\n",
        "\n",
        "# Map to (DestinationName, 1)\n",
        "dest_counts = filtered_rdd.map(lambda row: (row.DestinationName, 1))\n",
        "\n",
        "# Reduce to get total counts\n",
        "dest_totals = dest_counts.reduceByKey(lambda a, b: a + b)\n",
        "\n",
        "# Display sample output\n",
        "dest_totals.take(10)\n",
        "\n"
      ],
      "metadata": {
        "colab": {
          "base_uri": "https://localhost:8080/"
        },
        "id": "cT3mvPhj1MQ4",
        "outputId": "2bc22fcb-7458-4f82-ad7a-8bf02d598545"
      },
      "execution_count": null,
      "outputs": [
        {
          "output_type": "execute_result",
          "data": {
            "text/plain": [
              "[('EAST VIL 6 ST via LEX AV', 19525),\n",
              " ('WARDS ISLAND', 3454),\n",
              " ('SELECT BUS SI MALL via HYLAN', 19933),\n",
              " ('JAMAICA PRSNS - ARCHR via LINDEN', 12889),\n",
              " ('44 ST 6 AV', 10676),\n",
              " ('FLORAL PARK 268 ST via HILLSIDE', 14897),\n",
              " ('BROWNSVILLE ROCKAWAY AV', 27156),\n",
              " ('WILLAMSBURG BRIDGE PLZ via NOSTRAND', 3727),\n",
              " ('CITY HALL via LEX AV', 20667),\n",
              " ('GREENPOINT BOX ST', 18877)]"
            ]
          },
          "metadata": {},
          "execution_count": 11
        }
      ]
    },
    {
      "cell_type": "code",
      "source": [
        "# Example Task: Average distance from stop per destination\n",
        "# Ensure valid numeric DistanceFromStop values\n",
        "# Convert to RDD\n",
        "rdd = df.rdd\n",
        "\n",
        "# Clean and filter rows with numeric DistanceFromStop values\n",
        "def is_valid_distance(row):\n",
        "    try:\n",
        "        return row.DestinationName is not None and float(row.DistanceFromStop)\n",
        "    except:\n",
        "        return False\n",
        "\n",
        "# Only keep rows with numeric DistanceFromStop\n",
        "cleaned_rdd = rdd.filter(is_valid_distance)\n",
        "\n",
        "# Map to (DestinationName, (DistanceFromStop as float, 1))\n",
        "distance_rdd = cleaned_rdd.map(lambda row: (row.DestinationName, (float(row.DistanceFromStop), 1)))\n",
        "\n",
        "# Reduce to get total distance and count\n",
        "sum_counts = distance_rdd.reduceByKey(lambda a, b: (a[0] + b[0], a[1] + b[1]))\n",
        "\n",
        "# Compute average distance\n",
        "avg_distance = sum_counts.mapValues(lambda x: x[0] / x[1])\n",
        "\n",
        "# Display top 10 results\n",
        "avg_distance.take(10)\n",
        "\n"
      ],
      "metadata": {
        "colab": {
          "base_uri": "https://localhost:8080/"
        },
        "id": "WNMYPR5G66to",
        "outputId": "cf8d5040-64ca-44ba-cf20-cdd3247720d4"
      },
      "execution_count": null,
      "outputs": [
        {
          "output_type": "execute_result",
          "data": {
            "text/plain": [
              "[('EAST VIL 6 ST via LEX AV', 109.55831320008785),\n",
              " ('JAMAICA PRSNS - ARCHR via LINDEN', 140.71036734693877),\n",
              " ('44 ST 6 AV', 124.51325621865084),\n",
              " ('FLORAL PARK 268 ST via HILLSIDE', 95.60459128942287),\n",
              " ('BROWNSVILLE ROCKAWAY AV', 90.64920573421155),\n",
              " ('WILLAMSBURG BRIDGE PLZ via NOSTRAND', 100.0868809730669),\n",
              " ('CITY HALL via LEX AV', 124.24577626711987),\n",
              " ('GREENPOINT BOX ST', 123.51275129236072),\n",
              " ('BAY RIDGE SHORE RD via BROADWAY', 1172.9580586337495),\n",
              " ('SHEEPSHEAD BAY KNAPP ST', 94.6242663021629)]"
            ]
          },
          "metadata": {},
          "execution_count": 13
        }
      ]
    },
    {
      "cell_type": "code",
      "source": [
        "#3. Convert RDDs to DataFrames for SQL-Based Operations\n",
        "# Convert to DataFrame\n",
        "avg_df = avg_distance.toDF([\"Destination\", \"Avg_Distance_From_Stop\"])\n",
        "\n",
        "# Register as SQL view\n",
        "avg_df.createOrReplaceTempView(\"avg_distances\")\n",
        "\n",
        "# Run SQL query\n",
        "spark.sql(\"SELECT * FROM avg_distances ORDER BY Avg_Distance_From_Stop DESC LIMIT 10\").show()\n"
      ],
      "metadata": {
        "colab": {
          "base_uri": "https://localhost:8080/"
        },
        "id": "j2_uiwWp7Goi",
        "outputId": "173280d5-cc94-461a-e368-538ad6d5d71c"
      },
      "execution_count": null,
      "outputs": [
        {
          "output_type": "stream",
          "name": "stdout",
          "text": [
            "+--------------------+----------------------+\n",
            "|         Destination|Avg_Distance_From_Stop|\n",
            "+--------------------+----------------------+\n",
            "|SUPER EXPRESS BAY...|    10277.941176470587|\n",
            "|SUPER EXPRESS DOW...|               8893.52|\n",
            "|SUPER EXPRESS ELT...|     7153.484589041096|\n",
            "|SUPER EXPRESS GLE...|      7033.88679245283|\n",
            "|ELTINGVILLE TRANS...|     6519.314891655141|\n",
            "|SUPER EXPRESS 42S...|    6470.3512605042015|\n",
            "|SP EX TTNVLL via ...|     6328.688131313132|\n",
            "|TOTTNVLLE via RSS...|     6109.036144578313|\n",
            "|TOTTENVILLE via N...|     6056.993319725367|\n",
            "|SUNNYSIDE via NEW...|     5705.278413424867|\n",
            "+--------------------+----------------------+\n",
            "\n"
          ]
        }
      ]
    },
    {
      "cell_type": "markdown",
      "source": [
        "##2. Data Cleaning and Exploration"
      ],
      "metadata": {
        "id": "-PSej7XV7QgH"
      }
    },
    {
      "cell_type": "code",
      "source": [
        "from pyspark.sql.functions import col, when, count, isnan\n",
        "\n",
        "# Identify numeric columns correctly with backticks for special chars like dots\n",
        "numeric_cols = [\"`VehicleLocation.Latitude`\", \"`VehicleLocation.Longitude`\"]\n",
        "\n",
        "exprs = []\n",
        "\n",
        "for c in df.columns:\n",
        "    if c in [\"VehicleLocation.Latitude\", \"VehicleLocation.Longitude\"]:\n",
        "        exprs.append(count(when(col(f\"`{c}`\").isNull() | isnan(col(f\"`{c}`\")), c)).alias(c))\n",
        "    else:\n",
        "        exprs.append(count(when(col(c).isNull(), c)).alias(c))\n",
        "\n",
        "# Execute and show null counts\n",
        "df.select(exprs).show(truncate=False)\n"
      ],
      "metadata": {
        "colab": {
          "base_uri": "https://localhost:8080/"
        },
        "id": "0nMIwGb57Smy",
        "outputId": "9551121c-6ae6-4990-ee70-2b0e239d5095"
      },
      "execution_count": null,
      "outputs": [
        {
          "output_type": "stream",
          "name": "stdout",
          "text": [
            "+--------------+------------+-----------------+----------+---------+----------+---------------+--------------+---------------+----------+------------------------+-------------------------+-----------------+--------------------+----------------+-------------------+--------------------+\n",
            "|RecordedAtTime|DirectionRef|PublishedLineName|OriginName|OriginLat|OriginLong|DestinationName|DestinationLat|DestinationLong|VehicleRef|VehicleLocation.Latitude|VehicleLocation.Longitude|NextStopPointName|ArrivalProximityText|DistanceFromStop|ExpectedArrivalTime|ScheduledArrivalTime|\n",
            "+--------------+------------+-----------------+----------+---------+----------+---------------+--------------+---------------+----------+------------------------+-------------------------+-----------------+--------------------+----------------+-------------------+--------------------+\n",
            "|0             |0           |0                |0         |0        |0         |0              |0             |0              |0         |0                       |0                        |0                |0                   |0               |0                  |0                   |\n",
            "+--------------+------------+-----------------+----------+---------+----------+---------------+--------------+---------------+----------+------------------------+-------------------------+-----------------+--------------------+----------------+-------------------+--------------------+\n",
            "\n"
          ]
        }
      ]
    },
    {
      "cell_type": "code",
      "source": [
        " #Drop rows with critical null values\n",
        " df_clean = df.dropna(subset=[\"DestinationName\", \"DistanceFromStop\"])\n"
      ],
      "metadata": {
        "id": "2f6DyiKs7X73"
      },
      "execution_count": null,
      "outputs": []
    },
    {
      "cell_type": "code",
      "source": [
        "#2. Handling Duplicates\n",
        "print(\"Before removing duplicates:\", df_clean.count())\n",
        "df_clean = df_clean.dropDuplicates()\n",
        "print(\"After removing duplicates:\", df_clean.count())\n"
      ],
      "metadata": {
        "colab": {
          "base_uri": "https://localhost:8080/"
        },
        "id": "_4D_zQvo7i0I",
        "outputId": "b7f40b23-2760-4b7e-ecd4-8f4273b6f224"
      },
      "execution_count": null,
      "outputs": [
        {
          "output_type": "stream",
          "name": "stdout",
          "text": [
            "Before removing duplicates: 6461753\n",
            "After removing duplicates: 6435529\n"
          ]
        }
      ]
    },
    {
      "cell_type": "code",
      "source": [
        "# 3. Data Type Consistency\n",
        "df_clean = df_clean.withColumn(\"DistanceFromStop\", col(\"DistanceFromStop\").cast(\"double\"))\n",
        "df_clean.printSchema()\n"
      ],
      "metadata": {
        "colab": {
          "base_uri": "https://localhost:8080/"
        },
        "id": "GMKGNofJ7lzY",
        "outputId": "723d0d1d-d4eb-4926-f6d9-bbecf4e1841f"
      },
      "execution_count": null,
      "outputs": [
        {
          "output_type": "stream",
          "name": "stdout",
          "text": [
            "root\n",
            " |-- RecordedAtTime: timestamp (nullable = true)\n",
            " |-- DirectionRef: string (nullable = true)\n",
            " |-- PublishedLineName: string (nullable = true)\n",
            " |-- OriginName: string (nullable = true)\n",
            " |-- OriginLat: string (nullable = true)\n",
            " |-- OriginLong: string (nullable = true)\n",
            " |-- DestinationName: string (nullable = true)\n",
            " |-- DestinationLat: string (nullable = true)\n",
            " |-- DestinationLong: string (nullable = true)\n",
            " |-- VehicleRef: string (nullable = true)\n",
            " |-- VehicleLocation.Latitude: double (nullable = true)\n",
            " |-- VehicleLocation.Longitude: double (nullable = true)\n",
            " |-- NextStopPointName: string (nullable = true)\n",
            " |-- ArrivalProximityText: string (nullable = true)\n",
            " |-- DistanceFromStop: double (nullable = true)\n",
            " |-- ExpectedArrivalTime: string (nullable = true)\n",
            " |-- ScheduledArrivalTime: string (nullable = true)\n",
            "\n"
          ]
        }
      ]
    },
    {
      "cell_type": "code",
      "source": [
        "#4. Spark SQL for Querying & Aggregation\n",
        "df_clean.createOrReplaceTempView(\"transport_data\")\n"
      ],
      "metadata": {
        "id": "joxQiZ608KK_"
      },
      "execution_count": null,
      "outputs": []
    },
    {
      "cell_type": "code",
      "source": [
        "#Count trips per destination\n",
        "spark.sql(\"\"\"\n",
        "    SELECT DestinationName, COUNT(*) AS total_trips\n",
        "    FROM transport_data\n",
        "    GROUP BY DestinationName\n",
        "    ORDER BY total_trips DESC\n",
        "    LIMIT 10\n",
        "\"\"\").show()\n"
      ],
      "metadata": {
        "colab": {
          "base_uri": "https://localhost:8080/"
        },
        "id": "JpmVNYr48ThG",
        "outputId": "d9b754e0-4c1d-4dfd-96a6-d18b8973b9ee"
      },
      "execution_count": null,
      "outputs": [
        {
          "output_type": "stream",
          "name": "stdout",
          "text": [
            "+--------------------+-----------+\n",
            "|     DestinationName|total_trips|\n",
            "+--------------------+-----------+\n",
            "|WASHINGTON HTS GW...|      83890|\n",
            "|     ST GEORGE FERRY|      59275|\n",
            "|FLUSHING  MAIN ST...|      52661|\n",
            "|W FARMS RD SOUTHE...|      49139|\n",
            "|FLUSHING MAIN ST STA|      42885|\n",
            "|SELECT BUS BRONX ...|      41243|\n",
            "|SELECT BUS JAMAIC...|      40060|\n",
            "|BED-STUY WOODHULL...|      39049|\n",
            "|      WESTCHESTER SQ|      36735|\n",
            "|         PT RICHMOND|      35323|\n",
            "+--------------------+-----------+\n",
            "\n"
          ]
        }
      ]
    },
    {
      "cell_type": "code",
      "source": [
        "# Average distance from stop per destination\n",
        "spark.sql(\"\"\"\n",
        "    SELECT DestinationName, ROUND(AVG(DistanceFromStop), 2) AS avg_distance\n",
        "    FROM transport_data\n",
        "    GROUP BY DestinationName\n",
        "    ORDER BY avg_distance DESC\n",
        "    LIMIT 10\n",
        "\"\"\").show()\n"
      ],
      "metadata": {
        "colab": {
          "base_uri": "https://localhost:8080/"
        },
        "id": "dSzv4jhY8X4H",
        "outputId": "eddece6a-0d44-463c-9b20-a601c83d47d3"
      },
      "execution_count": null,
      "outputs": [
        {
          "output_type": "stream",
          "name": "stdout",
          "text": [
            "+--------------------+------------+\n",
            "|     DestinationName|avg_distance|\n",
            "+--------------------+------------+\n",
            "|SUPER EXPRESS BAY...|     9706.94|\n",
            "|SUPER EXPRESS DOW...|     8893.52|\n",
            "|SUPER EXPRESS ELT...|     6787.38|\n",
            "|SUPER EXPRESS GLE...|     6778.11|\n",
            "|SUPER EXPRESS 42S...|      6244.7|\n",
            "|ELTINGVILLE TRANS...|     6076.66|\n",
            "|SP EX TTNVLL via ...|     6046.23|\n",
            "|TOTTENVILLE via N...|     5728.53|\n",
            "|SUNNYSIDE via NEW...|     5544.57|\n",
            "|TOTTNVLLE via RSS...|     5426.22|\n",
            "+--------------------+------------+\n",
            "\n"
          ]
        }
      ]
    },
    {
      "cell_type": "markdown",
      "source": [
        "##3: Feature Engineering"
      ],
      "metadata": {
        "id": "TnoULGHw9c_R"
      }
    },
    {
      "cell_type": "code",
      "source": [
        "from pyspark.sql.functions import udf\n",
        "from pyspark.sql.types import StringType\n",
        "\n",
        "# Fix: Cast distance to float safely inside the UDF\n",
        "def categorize_distance(dist):\n",
        "    try:\n",
        "        dist = float(dist)\n",
        "        if dist < 100:\n",
        "            return \"Near\"\n",
        "        elif dist < 500:\n",
        "            return \"Medium\"\n",
        "        else:\n",
        "            return \"Far\"\n",
        "    except:\n",
        "        return \"Unknown\"\n",
        "\n",
        "# Register the UDF\n",
        "distance_category_udf = udf(categorize_distance, StringType())\n",
        "\n",
        "# Apply UDF\n",
        "df_fe = df.withColumn(\"DistanceCategory\", distance_category_udf(df[\"DistanceFromStop\"]))\n",
        "\n",
        "# Show results\n",
        "df_fe.select(\"DistanceFromStop\", \"DistanceCategory\").show(5)\n"
      ],
      "metadata": {
        "colab": {
          "base_uri": "https://localhost:8080/"
        },
        "id": "prMfcEX99kIZ",
        "outputId": "025e3612-1817-4704-aef1-945264ead267"
      },
      "execution_count": null,
      "outputs": [
        {
          "output_type": "stream",
          "name": "stdout",
          "text": [
            "+----------------+----------------+\n",
            "|DistanceFromStop|DistanceCategory|\n",
            "+----------------+----------------+\n",
            "|             130|          Medium|\n",
            "|              14|            Near|\n",
            "|             209|          Medium|\n",
            "|               5|            Near|\n",
            "|             108|          Medium|\n",
            "+----------------+----------------+\n",
            "only showing top 5 rows\n",
            "\n"
          ]
        }
      ]
    },
    {
      "cell_type": "code",
      "source": [
        "# Drop rows where DistanceFromStop is null\n",
        "df_fe_clean = df_fe.filter(df_fe[\"DistanceFromStop\"].isNotNull())\n"
      ],
      "metadata": {
        "id": "JieTNALk_DwV"
      },
      "execution_count": null,
      "outputs": []
    },
    {
      "cell_type": "code",
      "source": [
        "#Normalize/scale features\n",
        "from pyspark.sql.functions import col\n",
        "from pyspark.sql.types import DoubleType\n",
        "from pyspark.ml.feature import VectorAssembler, MinMaxScaler\n",
        "\n",
        "# Step 0: Remove rows where DistanceFromStop is null or invalid\n",
        "df_filtered = df_fe.filter((col(\"DistanceFromStop\").isNotNull()) & (col(\"DistanceFromStop\") != 'NA'))\n",
        "\n",
        "# Step 1: Cast DistanceFromStop to double\n",
        "df_casted = df_filtered.withColumn(\"DistanceFromStop\", col(\"DistanceFromStop\").cast(DoubleType()))\n",
        "\n",
        "# (Optional: Verify that all rows are now numeric and non-null)\n",
        "df_casted.select(\"DistanceFromStop\").filter(col(\"DistanceFromStop\").isNull()).show()\n",
        "\n"
      ],
      "metadata": {
        "colab": {
          "base_uri": "https://localhost:8080/"
        },
        "id": "EWDjaybT9rld",
        "outputId": "34c9bdb8-6d49-46aa-d2b1-fcde00645764"
      },
      "execution_count": null,
      "outputs": [
        {
          "output_type": "stream",
          "name": "stdout",
          "text": [
            "+----------------+\n",
            "|DistanceFromStop|\n",
            "+----------------+\n",
            "|            NULL|\n",
            "|            NULL|\n",
            "|            NULL|\n",
            "|            NULL|\n",
            "|            NULL|\n",
            "|            NULL|\n",
            "|            NULL|\n",
            "|            NULL|\n",
            "|            NULL|\n",
            "|            NULL|\n",
            "|            NULL|\n",
            "|            NULL|\n",
            "|            NULL|\n",
            "|            NULL|\n",
            "|            NULL|\n",
            "|            NULL|\n",
            "|            NULL|\n",
            "|            NULL|\n",
            "|            NULL|\n",
            "|            NULL|\n",
            "+----------------+\n",
            "only showing top 20 rows\n",
            "\n"
          ]
        }
      ]
    },
    {
      "cell_type": "code",
      "source": [
        "#vector assemble\n",
        "# Step 2: Assemble vector\n",
        "assembler = VectorAssembler(\n",
        "    inputCols=[\"DistanceFromStop\"],\n",
        "    outputCol=\"distance_vec\",\n",
        "    handleInvalid=\"skip\"  # Optional, just in case\n",
        ")\n",
        "assembled_df = assembler.transform(df_casted)\n"
      ],
      "metadata": {
        "id": "J-G42_El_UYE"
      },
      "execution_count": null,
      "outputs": []
    },
    {
      "cell_type": "code",
      "source": [
        "#minmax scalar\n",
        "# Step 3: Apply MinMaxScaler\n",
        "scaler = MinMaxScaler(inputCol=\"distance_vec\", outputCol=\"distance_scaled\")\n",
        "scaler_model = scaler.fit(assembled_df)\n",
        "scaled_df = scaler_model.transform(assembled_df)\n",
        "\n",
        "# Show final scaled output\n",
        "scaled_df.select(\"DistanceFromStop\", \"distance_scaled\").show(5)\n"
      ],
      "metadata": {
        "colab": {
          "base_uri": "https://localhost:8080/"
        },
        "id": "hKX2rap-_YhM",
        "outputId": "fe2c5e7f-e2e2-473c-f870-bd7b984ce638"
      },
      "execution_count": null,
      "outputs": [
        {
          "output_type": "stream",
          "name": "stdout",
          "text": [
            "+----------------+--------------------+\n",
            "|DistanceFromStop|     distance_scaled|\n",
            "+----------------+--------------------+\n",
            "|           130.0|[0.00362227980718...|\n",
            "|            14.0|[3.90091671542812...|\n",
            "|           209.0|[0.00582351138231...|\n",
            "|             5.0|[1.39318454122433...|\n",
            "|           108.0|[0.00300927860904...|\n",
            "+----------------+--------------------+\n",
            "only showing top 5 rows\n",
            "\n"
          ]
        }
      ]
    },
    {
      "cell_type": "code",
      "source": [
        "# 3. Encode Categorical Data\n",
        "from pyspark.ml.feature import StringIndexer\n",
        "\n",
        "# Encode DirectionRef\n",
        "indexer1 = StringIndexer(inputCol=\"DirectionRef\", outputCol=\"DirectionIndex\")\n",
        "df_indexed = indexer1.fit(scaled_df).transform(scaled_df)\n",
        "\n",
        "# Encode ArrivalProximityText\n",
        "indexer2 = StringIndexer(inputCol=\"ArrivalProximityText\", outputCol=\"ProximityIndex\")\n",
        "df_indexed = indexer2.fit(df_indexed).transform(df_indexed)\n",
        "\n",
        "df_indexed.select(\"DirectionRef\", \"DirectionIndex\", \"ArrivalProximityText\", \"ProximityIndex\").show(5)\n"
      ],
      "metadata": {
        "colab": {
          "base_uri": "https://localhost:8080/"
        },
        "id": "EC7D5l4F9wqw",
        "outputId": "01b57cd6-2150-4fed-bf77-af0d246c95c4"
      },
      "execution_count": null,
      "outputs": [
        {
          "output_type": "stream",
          "name": "stdout",
          "text": [
            "+------------+--------------+--------------------+--------------+\n",
            "|DirectionRef|DirectionIndex|ArrivalProximityText|ProximityIndex|\n",
            "+------------+--------------+--------------------+--------------+\n",
            "|           0|           1.0|         approaching|           0.0|\n",
            "|           1|           0.0|             at stop|           2.0|\n",
            "|           0|           1.0|       < 1 stop away|           1.0|\n",
            "|           0|           1.0|             at stop|           2.0|\n",
            "|           0|           1.0|         approaching|           0.0|\n",
            "+------------+--------------+--------------------+--------------+\n",
            "only showing top 5 rows\n",
            "\n"
          ]
        }
      ]
    },
    {
      "cell_type": "markdown",
      "source": [
        "##4: Machine Learning Module (MLlib)\n"
      ],
      "metadata": {
        "id": "-V6BoWhq-H0U"
      }
    },
    {
      "cell_type": "markdown",
      "source": [
        "Predict whether a vehicle is \"Near\" or \"Far\" from its stop based on features like DirectionRef, ArrivalProximityText, and DistanceFromStop.\n",
        "\n",
        "(We use the DistanceCategory created earlier as a binary label: Near = 0, Medium/Far = 1)"
      ],
      "metadata": {
        "id": "ewGeDU_2-PCx"
      }
    },
    {
      "cell_type": "code",
      "source": [
        "# Check if 'label' is inside 'features'\n",
        "assembler.getInputCols()\n"
      ],
      "metadata": {
        "colab": {
          "base_uri": "https://localhost:8080/"
        },
        "id": "PiImsZg7EvGe",
        "outputId": "98f4d8ee-d50d-4fe1-bd41-e3c2c7c378f9"
      },
      "execution_count": null,
      "outputs": [
        {
          "output_type": "execute_result",
          "data": {
            "text/plain": [
              "['DistanceFromStop', 'DirectionIndex', 'ProximityIndex']"
            ]
          },
          "metadata": {},
          "execution_count": 46
        }
      ]
    },
    {
      "cell_type": "code",
      "source": [
        "#1. Prepare Features and Label\n",
        "from pyspark.sql.functions import when\n",
        "from pyspark.ml.feature import StringIndexer, VectorAssembler\n",
        "\n",
        "# Binary label: Near = 0, else = 1\n",
        "df_ml = scaled_df.withColumn(\"label\", when(col(\"DistanceCategory\") == \"Near\", 0).otherwise(1))\n",
        "\n",
        "# Encode categorical variables\n",
        "direction_indexer = StringIndexer(inputCol=\"DirectionRef\", outputCol=\"DirectionIndex\")\n",
        "proximity_indexer = StringIndexer(inputCol=\"ArrivalProximityText\", outputCol=\"ProximityIndex\")\n",
        "\n",
        "df_ml = direction_indexer.fit(df_ml).transform(df_ml)\n",
        "df_ml = proximity_indexer.fit(df_ml).transform(df_ml)\n",
        "\n"
      ],
      "metadata": {
        "id": "dbTrzxhO-RCm"
      },
      "execution_count": null,
      "outputs": []
    },
    {
      "cell_type": "code",
      "source": [
        "#2. Assemble All Features into a Single Vector\n",
        "assembler = VectorAssembler(\n",
        "    inputCols=[\"DirectionIndex\", \"ProximityIndex\"],\n",
        "    outputCol=\"features\"\n",
        ")\n",
        "\n",
        "\n",
        "final_df = assembler.transform(df_ml).select(\"features\", \"label\")\n",
        "final_df.show(5)\n"
      ],
      "metadata": {
        "colab": {
          "base_uri": "https://localhost:8080/"
        },
        "id": "075pGAmI-Gya",
        "outputId": "28cdba3e-ec18-41ff-d390-b84a7fd8854c"
      },
      "execution_count": null,
      "outputs": [
        {
          "output_type": "stream",
          "name": "stdout",
          "text": [
            "+---------+-----+\n",
            "| features|label|\n",
            "+---------+-----+\n",
            "|[1.0,0.0]|    1|\n",
            "|[0.0,2.0]|    0|\n",
            "|[1.0,1.0]|    1|\n",
            "|[1.0,2.0]|    0|\n",
            "|[1.0,0.0]|    1|\n",
            "+---------+-----+\n",
            "only showing top 5 rows\n",
            "\n"
          ]
        }
      ]
    },
    {
      "cell_type": "code",
      "source": [
        "#3. Split Data\n",
        "train_data, test_data = final_df.randomSplit([0.8, 0.2], seed=42)\n"
      ],
      "metadata": {
        "id": "n5hIPgOQ_xeN"
      },
      "execution_count": null,
      "outputs": []
    },
    {
      "cell_type": "code",
      "source": [
        "#4. Train Models\n",
        "#logistic regression\n",
        "from pyspark.ml.classification import LogisticRegression\n",
        "\n",
        "lr = LogisticRegression(featuresCol=\"features\", labelCol=\"label\")\n",
        "lr_model = lr.fit(train_data)\n",
        "lr_preds = lr_model.transform(test_data)\n"
      ],
      "metadata": {
        "id": "TXrOVPvm_0I0"
      },
      "execution_count": null,
      "outputs": []
    },
    {
      "cell_type": "code",
      "source": [
        "#decission tree\n",
        "from pyspark.ml.classification import DecisionTreeClassifier\n",
        "\n",
        "dt = DecisionTreeClassifier(featuresCol=\"features\", labelCol=\"label\", maxBins=256)\n",
        "dt_model = dt.fit(train_data)\n",
        "dt_preds = dt_model.transform(test_data)\n"
      ],
      "metadata": {
        "id": "ooFB5Ixj_5vj"
      },
      "execution_count": null,
      "outputs": []
    },
    {
      "cell_type": "code",
      "source": [
        "#Classifiaction report\n",
        "from pyspark.ml.evaluation import BinaryClassificationEvaluator\n",
        "from pyspark.sql.functions import col\n",
        "from sklearn.metrics import classification_report\n",
        "\n",
        "def evaluate_classification_model(pred_df, model_name=\"Model\"):\n",
        "    print(f\"\\n📊 Evaluation Metrics for: {model_name}\")\n",
        "\n",
        "    # Convert to Pandas for sklearn\n",
        "    pred_pd = pred_df.select(\"label\", \"prediction\").toPandas()\n",
        "\n",
        "    # Classification report from sklearn\n",
        "    report = classification_report(pred_pd[\"label\"], pred_pd[\"prediction\"], target_names=[\"Near\", \"Medium/Far\"])\n",
        "    print(report)\n"
      ],
      "metadata": {
        "id": "3A_9ULie_-xG"
      },
      "execution_count": null,
      "outputs": []
    },
    {
      "cell_type": "code",
      "source": [
        "#applying to models\n",
        "evaluate_classification_model(lr_preds, model_name=\"Logistic Regression\")\n",
        "evaluate_classification_model(dt_preds, model_name=\"Decision Tree\")\n",
        "\n"
      ],
      "metadata": {
        "colab": {
          "base_uri": "https://localhost:8080/"
        },
        "id": "uOFZWemwAaYq",
        "outputId": "a00a0995-12e6-4af5-e9cd-e316841add60"
      },
      "execution_count": null,
      "outputs": [
        {
          "output_type": "stream",
          "name": "stdout",
          "text": [
            "\n",
            "📊 Evaluation Metrics for: Logistic Regression\n",
            "              precision    recall  f1-score   support\n",
            "\n",
            "        Near       0.54      1.00      0.70    681510\n",
            "  Medium/Far       1.00      0.05      0.09    609935\n",
            "\n",
            "    accuracy                           0.55   1291445\n",
            "   macro avg       0.77      0.52      0.40   1291445\n",
            "weighted avg       0.76      0.55      0.41   1291445\n",
            "\n",
            "\n",
            "📊 Evaluation Metrics for: Decision Tree\n",
            "              precision    recall  f1-score   support\n",
            "\n",
            "        Near       0.80      1.00      0.89    681510\n",
            "  Medium/Far       1.00      0.72      0.84    609935\n",
            "\n",
            "    accuracy                           0.87   1291445\n",
            "   macro avg       0.90      0.86      0.86   1291445\n",
            "weighted avg       0.89      0.87      0.86   1291445\n",
            "\n"
          ]
        }
      ]
    },
    {
      "cell_type": "code",
      "source": [
        "#confusion matrix\n",
        "# Logistic Regression\n",
        "lr_preds.groupBy(\"label\", \"prediction\").count().show()\n",
        "\n",
        "# Decision Tree\n",
        "dt_preds.groupBy(\"label\", \"prediction\").count().show()\n"
      ],
      "metadata": {
        "colab": {
          "base_uri": "https://localhost:8080/"
        },
        "id": "HjZvFqMHApCq",
        "outputId": "36e33ee5-f25f-4f16-9210-071449d62e3a"
      },
      "execution_count": null,
      "outputs": [
        {
          "output_type": "stream",
          "name": "stdout",
          "text": [
            "+-----+----------+------+\n",
            "|label|prediction| count|\n",
            "+-----+----------+------+\n",
            "|    0|       0.0|681301|\n",
            "|    1|       1.0|610144|\n",
            "+-----+----------+------+\n",
            "\n",
            "+-----+----------+------+\n",
            "|label|prediction| count|\n",
            "+-----+----------+------+\n",
            "|    0|       0.0|681301|\n",
            "|    1|       1.0|610144|\n",
            "+-----+----------+------+\n",
            "\n"
          ]
        }
      ]
    },
    {
      "cell_type": "code",
      "source": [
        "# Check label distribution\n",
        "train_data.groupBy(\"label\").count().show()\n",
        "test_data.groupBy(\"label\").count().show()\n"
      ],
      "metadata": {
        "colab": {
          "base_uri": "https://localhost:8080/"
        },
        "id": "67Fo4oU5DJZn",
        "outputId": "f6a035a8-100f-4442-ba15-e183d98d36c3"
      },
      "execution_count": null,
      "outputs": [
        {
          "output_type": "stream",
          "name": "stdout",
          "text": [
            "+-----+-------+\n",
            "|label|  count|\n",
            "+-----+-------+\n",
            "|    1|2433941|\n",
            "|    0|2728905|\n",
            "+-----+-------+\n",
            "\n",
            "+-----+------+\n",
            "|label| count|\n",
            "+-----+------+\n",
            "|    1|610144|\n",
            "|    0|681301|\n",
            "+-----+------+\n",
            "\n"
          ]
        }
      ]
    },
    {
      "cell_type": "markdown",
      "source": [
        "##5: Visualization & Reporting\n"
      ],
      "metadata": {
        "id": "4syGO05hA3Ox"
      }
    },
    {
      "cell_type": "code",
      "source": [
        "#1. Display Insights from Spark SQL\n",
        "# Register as SQL view\n",
        "df_fe.createOrReplaceTempView(\"transport_data\")\n",
        "\n",
        "# SQL Query: Top destinations\n",
        "top_dest_df = spark.sql(\"\"\"\n",
        "    SELECT DestinationName, COUNT(*) AS trip_count\n",
        "    FROM transport_data\n",
        "    GROUP BY DestinationName\n",
        "    ORDER BY trip_count DESC\n",
        "    LIMIT 10\n",
        "\"\"\")\n",
        "\n",
        "top_dest_df.show()\n"
      ],
      "metadata": {
        "colab": {
          "base_uri": "https://localhost:8080/"
        },
        "id": "TRtEY4yhArMh",
        "outputId": "b33c0760-3847-497a-b98e-3df4e45b7f00"
      },
      "execution_count": null,
      "outputs": [
        {
          "output_type": "stream",
          "name": "stdout",
          "text": [
            "+--------------------+----------+\n",
            "|     DestinationName|trip_count|\n",
            "+--------------------+----------+\n",
            "|WASHINGTON HTS GW...|     84246|\n",
            "|     ST GEORGE FERRY|     59546|\n",
            "|FLUSHING  MAIN ST...|     52847|\n",
            "|W FARMS RD SOUTHE...|     49350|\n",
            "|FLUSHING MAIN ST STA|     43073|\n",
            "|SELECT BUS BRONX ...|     41384|\n",
            "|SELECT BUS JAMAIC...|     40200|\n",
            "|BED-STUY WOODHULL...|     39190|\n",
            "|      WESTCHESTER SQ|     36893|\n",
            "|         PT RICHMOND|     35456|\n",
            "+--------------------+----------+\n",
            "\n"
          ]
        }
      ]
    },
    {
      "cell_type": "code",
      "source": [
        "#2. Plot Results using Visualization Libraries\n",
        "# Convert to Pandas\n",
        "top_dest_pd = top_dest_df.toPandas()\n",
        "\n",
        "# Plot\n",
        "import matplotlib.pyplot as plt\n",
        "import seaborn as sns\n",
        "\n",
        "plt.figure(figsize=(10,6))\n",
        "sns.barplot(data=top_dest_pd, x=\"trip_count\", y=\"DestinationName\", palette=\"viridis\")\n",
        "plt.title(\"Top 10 Most Frequent Destinations\")\n",
        "plt.xlabel(\"Trip Count\")\n",
        "plt.ylabel(\"Destination\")\n",
        "plt.tight_layout()\n",
        "plt.show()\n"
      ],
      "metadata": {
        "colab": {
          "base_uri": "https://localhost:8080/",
          "height": 714
        },
        "id": "83PJhaVpA-DV",
        "outputId": "8ec01749-f45d-46ed-fb4d-818842fae955"
      },
      "execution_count": null,
      "outputs": [
        {
          "output_type": "stream",
          "name": "stderr",
          "text": [
            "/tmp/ipython-input-1467433406.py:10: FutureWarning: \n",
            "\n",
            "Passing `palette` without assigning `hue` is deprecated and will be removed in v0.14.0. Assign the `y` variable to `hue` and set `legend=False` for the same effect.\n",
            "\n",
            "  sns.barplot(data=top_dest_pd, x=\"trip_count\", y=\"DestinationName\", palette=\"viridis\")\n"
          ]
        },
        {
          "output_type": "display_data",
          "data": {
            "text/plain": [
              "<Figure size 1000x600 with 1 Axes>"
            ],
            "image/png": "[encoded data removed]"
          },
          "metadata": {}
        }
      ]
    },
    {
      "cell_type": "code",
      "source": [
        "#3. Visualize Model Predictions (Logistic Regression)\n",
        "# Convert predictions to Pandas\n",
        "lr_preds_pd = lr_preds.select(\"label\", \"prediction\").toPandas()\n",
        "\n",
        "# Confusion matrix\n",
        "from sklearn.metrics import confusion_matrix, ConfusionMatrixDisplay\n",
        "\n",
        "cm = confusion_matrix(lr_preds_pd[\"label\"], lr_preds_pd[\"prediction\"])\n",
        "disp = ConfusionMatrixDisplay(confusion_matrix=cm, display_labels=[\"Near\", \"Medium/Far\"])\n",
        "disp.plot(cmap=\"Blues\")\n",
        "plt.title(\"Logistic Regression – Confusion Matrix\")\n",
        "plt.show()\n"
      ],
      "metadata": {
        "colab": {
          "base_uri": "https://localhost:8080/",
          "height": 472
        },
        "id": "BZOxNFmgBEZi",
        "outputId": "01c7686c-0775-475a-8dde-9c292e807982"
      },
      "execution_count": null,
      "outputs": [
        {
          "output_type": "display_data",
          "data": {
            "text/plain": [
              "<Figure size 640x480 with 2 Axes>"
            ],
            "image/png": "[encoded data removed]"
          },
          "metadata": {}
        }
      ]
    },
    {
      "cell_type": "code",
      "source": [
        "# Convert Decision Tree predictions to Pandas\n",
        "dt_preds_pd = dt_preds.select(\"label\", \"prediction\").toPandas()\n",
        "\n",
        "# Import metrics\n",
        "from sklearn.metrics import confusion_matrix, ConfusionMatrixDisplay\n",
        "\n",
        "# Compute confusion matrix\n",
        "cm_dt = confusion_matrix(dt_preds_pd[\"label\"], dt_preds_pd[\"prediction\"])\n",
        "\n",
        "# Display\n",
        "disp_dt = ConfusionMatrixDisplay(confusion_matrix=cm_dt, display_labels=[\"Near\", \"Medium/Far\"])\n",
        "disp_dt.plot(cmap=\"Greens\")\n",
        "plt.title(\"Decision Tree – Confusion Matrix\")\n",
        "plt.show()\n"
      ],
      "metadata": {
        "colab": {
          "base_uri": "https://localhost:8080/",
          "height": 472
        },
        "id": "N41myaxgB5OC",
        "outputId": "7f01a678-66fd-44d4-a63f-3ee53d38265a"
      },
      "execution_count": null,
      "outputs": [
        {
          "output_type": "display_data",
          "data": {
            "text/plain": [
              "<Figure size 640x480 with 2 Axes>"
            ],
            "image/png": "[encoded data removed]"
          },
          "metadata": {}
        }
      ]
    },
    {
      "cell_type": "code",
      "source": [
        "#Show Side-by-Side Comparison\n",
        "import matplotlib.pyplot as plt\n",
        "\n",
        "fig, ax = plt.subplots(1, 2, figsize=(12, 5))\n",
        "\n",
        "# LR\n",
        "cm_lr = confusion_matrix(lr_preds_pd[\"label\"], lr_preds_pd[\"prediction\"])\n",
        "ConfusionMatrixDisplay(cm_lr, display_labels=[\"Near\", \"Medium/Far\"]).plot(ax=ax[0], cmap=\"Blues\")\n",
        "ax[0].set_title(\"Logistic Regression\")\n",
        "\n",
        "# DT\n",
        "ConfusionMatrixDisplay(cm_dt, display_labels=[\"Near\", \"Medium/Far\"]).plot(ax=ax[1], cmap=\"Greens\")\n",
        "ax[1].set_title(\"Decision Tree\")\n",
        "\n",
        "plt.tight_layout()\n",
        "plt.show()\n"
      ],
      "metadata": {
        "colab": {
          "base_uri": "https://localhost:8080/",
          "height": 464
        },
        "id": "xb3aPj1aB9ui",
        "outputId": "ee55d20d-d55e-4ec5-9316-789d7017d6dd"
      },
      "execution_count": null,
      "outputs": [
        {
          "output_type": "display_data",
          "data": {
            "text/plain": [
              "<Figure size 1200x500 with 4 Axes>"
            ],
            "image/png": "[encoded data removed]"
          },
          "metadata": {}
        }
      ]
    }
  ]
}